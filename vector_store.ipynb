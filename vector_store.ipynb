{
 "cells": [
  {
   "cell_type": "code",
   "execution_count": null,
   "metadata": {},
   "outputs": [
    {
     "name": "stdout",
     "output_type": "stream",
     "text": [
      "Loaded 1206942 documents from JSON files.\n",
      "Split into 1152073 text chunks.\n",
      "Filtered down to 1152073 valid text chunks.\n"
     ]
    },
    {
     "name": "stderr",
     "output_type": "stream",
     "text": [
      "/home/ubuntu-lynn/miniconda3/envs/python310/lib/python3.10/site-packages/tqdm/auto.py:21: TqdmWarning: IProgress not found. Please update jupyter and ipywidgets. See https://ipywidgets.readthedocs.io/en/stable/user_install.html\n",
      "  from .autonotebook import tqdm as notebook_tqdm\n"
     ]
    }
   ],
   "source": [
    "import os\n",
    "import json\n",
    "from dotenv import load_dotenv\n",
    "from langchain_core.documents import Document\n",
    "from langchain_text_splitters import RecursiveCharacterTextSplitter\n",
    "from langchain_chroma import Chroma\n",
    "from langchain_huggingface import HuggingFaceEmbeddings\n",
    "\n",
    "# 1. 환경 변수 로드\n",
    "load_dotenv()\n",
    "\n",
    "FOLDER_PATH = os.getenv(\"FOLDER_PATH\")\n",
    "VECTOR_STORE_PATH = os.getenv(\"VECTOR_STORE_PATH\")\n",
    "EMBEDDING_MODEL_NAME = os.getenv(\"EMBEDDING_MODEL_NAME\")\n",
    "OPENAI_API_KEY = os.getenv(\"OPENAI_API_KEY\")\n",
    "\n",
    "# 2. JSON 데이터에서 모든 키를 재귀적으로 탐색\n",
    "def extract_all_keys(data, parent_key=\"\"):\n",
    "    documents = []\n",
    "\n",
    "    if isinstance(data, dict):  # 딕셔너리 처리\n",
    "        for key, value in data.items():\n",
    "            full_key = f\"{parent_key}.{key}\" if parent_key else key\n",
    "            documents.extend(extract_all_keys(value, full_key))\n",
    "    elif isinstance(data, list):  # 리스트 처리\n",
    "        for index, item in enumerate(data):\n",
    "            full_key = f\"{parent_key}[{index}]\"\n",
    "            documents.extend(extract_all_keys(item, full_key))\n",
    "    else:  # 기본 데이터 처리\n",
    "        documents.append(\n",
    "            Document(\n",
    "                page_content=str(data),\n",
    "                metadata={\"key_path\": parent_key}\n",
    "            )\n",
    "        )\n",
    "    return documents\n",
    "\n",
    "# 3. JSON 파일 로드 및 Document 생성\n",
    "def load_json_documents(folder_path):\n",
    "    documents = []\n",
    "\n",
    "    for root, dirs, files in os.walk(folder_path):\n",
    "        for file in files:\n",
    "            if file.endswith(\".json\"):\n",
    "                file_path = os.path.join(root, file)\n",
    "                with open(file_path, \"r\", encoding=\"utf-8\") as f:\n",
    "                    try:\n",
    "                        data = json.load(f)\n",
    "                        file_documents = extract_all_keys(data)\n",
    "                        # 소스 경로 추가\n",
    "                        for doc in file_documents:\n",
    "                            doc.metadata[\"source\"] = file_path\n",
    "                        documents.extend(file_documents)\n",
    "                    except json.JSONDecodeError as e:\n",
    "                        print(f\"Error decoding JSON in file {file_path}: {e}\")\n",
    "    return documents\n",
    "\n",
    "# 4. 데이터 로드\n",
    "try:\n",
    "    docs = load_json_documents(FOLDER_PATH)\n",
    "    print(f\"Loaded {len(docs)} documents from JSON files.\")\n",
    "except Exception as e:\n",
    "    print(f\"Error loading documents: {e}\")\n",
    "    raise\n",
    "\n",
    "# 5. 텍스트 분할\n",
    "text_splitter = RecursiveCharacterTextSplitter(chunk_size=500, chunk_overlap=100)\n",
    "all_splits = text_splitter.split_documents(docs)\n",
    "print(f\"Split into {len(all_splits)} text chunks.\")\n",
    "\n",
    "# 6. 유효한 텍스트만 필터링\n",
    "all_splits = [doc for doc in all_splits if doc.page_content.strip()]\n",
    "if not all_splits:\n",
    "    raise ValueError(\"No valid documents found for vector store.\")\n",
    "print(f\"Filtered down to {len(all_splits)} valid text chunks.\")\n",
    "\n",
    "# 7. 벡터 스토어 저장\n",
    "embeddings = HuggingFaceEmbeddings(model_name=EMBEDDING_MODEL_NAME)\n",
    "vector_store = Chroma(embedding_function=embeddings, persist_directory=VECTOR_STORE_PATH)\n",
    "vector_store.add_documents(all_splits)\n",
    "print(f\"Documents successfully added to vector store at {VECTOR_STORE_PATH}.\")\n"
   ]
  }
 ],
 "metadata": {
  "kernelspec": {
   "display_name": "python310",
   "language": "python",
   "name": "python3"
  },
  "language_info": {
   "codemirror_mode": {
    "name": "ipython",
    "version": 3
   },
   "file_extension": ".py",
   "mimetype": "text/x-python",
   "name": "python",
   "nbconvert_exporter": "python",
   "pygments_lexer": "ipython3",
   "version": "3.10.15"
  }
 },
 "nbformat": 4,
 "nbformat_minor": 2
}
